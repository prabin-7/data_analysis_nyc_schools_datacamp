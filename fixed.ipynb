{
 "cells": [
  {
   "cell_type": "code",
   "execution_count": null,
   "id": "bf0ade95",
   "metadata": {},
   "outputs": [],
   "source": [
    "import pandas as pd\n",
    "import os \n",
    "\n",
    "# csv_path = os.getcwd()\n",
    "\n",
    "# Read in the data\n",
    "schools = pd.read_csv(\"schools.csv\")\n",
    "\n",
    "# Preview the data\n",
    "\n",
    "print(type(schools))\n",
    "print(schools.shape)\n",
    "schools.head()\n",
    "# Start coding here..."
   ]
  },
  {
   "cell_type": "code",
   "execution_count": null,
   "id": "9c5ff191",
   "metadata": {},
   "outputs": [],
   "source": [
    "schools = schools.dropna()       #dropna is not inplace type of method \n",
    "schools.shape\n",
    "# print(schools['average_math'].unique())"
   ]
  },
  {
   "cell_type": "code",
   "execution_count": null,
   "id": "56c0b0c6",
   "metadata": {},
   "outputs": [],
   "source": [
    "threshold = 0.8* 800\n",
    "cols = ['average_math','average_reading','average_writing']\n",
    "schools[cols] = schools[cols].apply(pd.to_numeric, errors ='coerce') \n",
    "# schools[cols] = pd.to_numeric(schools[cols],errors= 'coerce') #arg must be a list, tuple, 1-d array, or Series\n",
    "print(schools['average_math'].dtype)"
   ]
  },
  {
   "cell_type": "code",
   "execution_count": null,
   "id": "8b6b96b7",
   "metadata": {},
   "outputs": [],
   "source": [
    "best_math_schools = schools[schools['average_math']>= threshold][['school_name','average_math']].sort_values('average_math', ascending = False)\n",
    "best_math_schools.shape\n",
    "best_math_schools.columns\n",
    "best_math_schools"
   ]
  },
  {
   "cell_type": "code",
   "execution_count": null,
   "id": "30042a55",
   "metadata": {},
   "outputs": [],
   "source": [
    "schools['total_SAT']= schools['average_math']+schools['average_reading']+schools['average_writing']\n",
    "schools.head()\n",
    "top_10_schools = schools[['school_name','total_SAT']].sort_values('total_SAT',ascending = False)\n",
    "top_10_schools = top_10_schools.head(10)\n",
    "top_10_schools"
   ]
  }
 ],
 "metadata": {
  "kernelspec": {
   "display_name": "jupyter_env",
   "language": "python",
   "name": "python3"
  },
  "language_info": {
   "codemirror_mode": {
    "name": "ipython",
    "version": 3
   },
   "file_extension": ".py",
   "mimetype": "text/x-python",
   "name": "python",
   "nbconvert_exporter": "python",
   "pygments_lexer": "ipython3",
   "version": "3.12.3"
  }
 },
 "nbformat": 4,
 "nbformat_minor": 5
}
